{
 "cells": [
  {
   "cell_type": "code",
   "execution_count": 3,
   "metadata": {},
   "outputs": [
    {
     "name": "stdout",
     "output_type": "stream",
     "text": [
      "/project/bengali/bengali-2020\n"
     ]
    }
   ],
   "source": [
    "cd ../"
   ]
  },
  {
   "cell_type": "code",
   "execution_count": 4,
   "metadata": {},
   "outputs": [],
   "source": [
    "import pandas as pd\n",
    "import numpy as np\n",
    "df = pd.read_csv('data/folds.csv')\n",
    "val_df = df.query('folds==0').copy()\n",
    "root = 'results/062_srx50_plane_focal_cosine_ssr_msd_resize224_fold0'\n",
    "\n",
    "val_df['g_pred'] = np.argmax(np.load(f'{root}/valid_preds_g.npy'),axis=1)\n",
    "val_df['v_pred'] = np.argmax(np.load(f'{root}/valid_preds_v.npy'),axis=1)\n",
    "val_df['c_pred'] = np.argmax(np.load(f'{root}/valid_preds_c.npy'),axis=1)"
   ]
  },
  {
   "cell_type": "code",
   "execution_count": 5,
   "metadata": {},
   "outputs": [],
   "source": [
    "val_df['g_score'] = 1\n",
    "val_df['v_score'] = 1\n",
    "val_df['c_score'] = 1\n",
    "val_df.loc[val_df['grapheme_root'] != val_df['g_pred'], 'g_score'] = 0\n",
    "val_df.loc[val_df['vowel_diacritic'] != val_df['v_pred'], 'v_score'] = 0\n",
    "val_df.loc[val_df['consonant_diacritic'] != val_df['c_pred'], 'c_score'] = 0\n",
    "\n",
    "a_true = val_df[['grapheme_root', 'vowel_diacritic', 'consonant_diacritic']].values\n",
    "a_pred = val_df[['g_pred', 'v_pred', 'c_pred']].values\n",
    "val_df['a_score'] = np.all(a_true == a_pred, axis=1).astype(int)"
   ]
  },
  {
   "cell_type": "code",
   "execution_count": 6,
   "metadata": {},
   "outputs": [
    {
     "data": {
      "text/plain": [
       "Unnamed: 0             1.002388e+05\n",
       "original_index         1.002388e+05\n",
       "grapheme_root          8.640953e+01\n",
       "vowel_diacritic        3.364452e+00\n",
       "consonant_diacritic    1.282924e+00\n",
       "folds                  0.000000e+00\n",
       "combined                        inf\n",
       "unique_label           6.458664e+02\n",
       "g_pred                 8.653198e+01\n",
       "v_pred                 3.359432e+00\n",
       "c_pred                 1.280862e+00\n",
       "g_score                9.636219e-01\n",
       "v_score                9.899612e-01\n",
       "c_score                9.885200e-01\n",
       "a_score                9.497316e-01\n",
       "dtype: float64"
      ]
     },
     "execution_count": 6,
     "metadata": {},
     "output_type": "execute_result"
    }
   ],
   "source": [
    "val_df.mean(axis=0)"
   ]
  },
  {
   "cell_type": "code",
   "execution_count": 7,
   "metadata": {},
   "outputs": [],
   "source": [
    "g_result = {}\n",
    "for c, _df in val_df.groupby('grapheme_root'):\n",
    "    g_result[c] = _df.g_score.mean()\n",
    "    \n",
    "v_result = {}\n",
    "for c, _df in val_df.groupby('vowel_diacritic'):\n",
    "    v_result[c] = _df.v_score.mean()\n",
    "    \n",
    "c_result = {}\n",
    "for c, _df in val_df.groupby('consonant_diacritic'):\n",
    "    c_result[c] = _df.c_score.mean()\n",
    "    \n",
    "all_result = {}\n",
    "for c, _df in val_df.groupby('combined'):\n",
    "    all_result[c] = _df.a_score.mean()"
   ]
  },
  {
   "cell_type": "code",
   "execution_count": 8,
   "metadata": {},
   "outputs": [
    {
     "data": {
      "text/plain": [
       "60     0.674419\n",
       "61     0.721739\n",
       "62     0.781609\n",
       "84     0.804348\n",
       "162    0.806452\n",
       "68     0.850394\n",
       "154    0.863946\n",
       "63     0.866667\n",
       "30     0.875000\n",
       "54     0.882353\n",
       "145    0.890625\n",
       "140    0.892655\n",
       "122    0.896328\n",
       "102    0.896552\n",
       "120    0.896694\n",
       "32     0.898230\n",
       "156    0.905063\n",
       "85     0.908425\n",
       "144    0.910569\n",
       "137    0.911504\n",
       "dtype: float64"
      ]
     },
     "execution_count": 8,
     "metadata": {},
     "output_type": "execute_result"
    }
   ],
   "source": [
    "pd.Series(g_result).sort_values().head(20)"
   ]
  },
  {
   "cell_type": "code",
   "execution_count": 9,
   "metadata": {},
   "outputs": [
    {
     "data": {
      "text/plain": [
       "6     0.963387\n",
       "5     0.971624\n",
       "8     0.979259\n",
       "4     0.985625\n",
       "9     0.987585\n",
       "10    0.989101\n",
       "0     0.989158\n",
       "1     0.991329\n",
       "3     0.992175\n",
       "7     0.992744\n",
       "2     0.999039\n",
       "dtype: float64"
      ]
     },
     "execution_count": 9,
     "metadata": {},
     "output_type": "execute_result"
    }
   ],
   "source": [
    "pd.Series(v_result).sort_values()"
   ]
  },
  {
   "cell_type": "code",
   "execution_count": 10,
   "metadata": {},
   "outputs": [
    {
     "data": {
      "text/plain": [
       "3    0.941176\n",
       "6    0.967153\n",
       "1    0.978567\n",
       "2    0.979566\n",
       "5    0.983849\n",
       "4    0.984209\n",
       "0    0.992810\n",
       "dtype: float64"
      ]
     },
     "execution_count": 10,
     "metadata": {},
     "output_type": "execute_result"
    }
   ],
   "source": [
    "pd.Series(c_result).sort_values()"
   ]
  },
  {
   "cell_type": "code",
   "execution_count": 11,
   "metadata": {},
   "outputs": [
    {
     "data": {
      "text/plain": [
       "61_2_0     0.500000\n",
       "60_4_0     0.631579\n",
       "62_7_0     0.647059\n",
       "64_4_5     0.666667\n",
       "60_1_0     0.681818\n",
       "61_0_0     0.700000\n",
       "61_7_0     0.703704\n",
       "53_2_5     0.714286\n",
       "83_1_0     0.718750\n",
       "79_7_0     0.718750\n",
       "162_1_0    0.729730\n",
       "53_9_0     0.730769\n",
       "60_0_0     0.730769\n",
       "68_3_0     0.730769\n",
       "120_0_0    0.735294\n",
       "122_9_0    0.736842\n",
       "85_7_0     0.739130\n",
       "62_0_0     0.742857\n",
       "30_7_0     0.750000\n",
       "154_4_0    0.750000\n",
       "dtype: float64"
      ]
     },
     "execution_count": 11,
     "metadata": {},
     "output_type": "execute_result"
    }
   ],
   "source": [
    "pd.Series(all_result).sort_values().head(20)"
   ]
  },
  {
   "cell_type": "code",
   "execution_count": 12,
   "metadata": {},
   "outputs": [
    {
     "data": {
      "text/plain": [
       "115    65\n",
       "148    59\n",
       "147    58\n",
       "23     53\n",
       "153    48\n",
       "       ..\n",
       "166     1\n",
       "27      1\n",
       "47      1\n",
       "45      1\n",
       "112     1\n",
       "Name: g_pred, Length: 152, dtype: int64"
      ]
     },
     "execution_count": 12,
     "metadata": {},
     "output_type": "execute_result"
    }
   ],
   "source": [
    "val_df.query('a_score==0').g_pred.value_counts()"
   ]
  },
  {
   "cell_type": "code",
   "execution_count": 13,
   "metadata": {},
   "outputs": [
    {
     "data": {
      "text/plain": [
       "113    62\n",
       "53     60\n",
       "64     56\n",
       "23     52\n",
       "122    52\n",
       "79     51\n",
       "115    45\n",
       "81     42\n",
       "62     39\n",
       "96     38\n",
       "71     38\n",
       "13     36\n",
       "107    36\n",
       "56     33\n",
       "61     32\n",
       "141    32\n",
       "72     32\n",
       "133    32\n",
       "43     31\n",
       "29     31\n",
       "Name: grapheme_root, dtype: int64"
      ]
     },
     "execution_count": 13,
     "metadata": {},
     "output_type": "execute_result"
    }
   ],
   "source": [
    "val_df.query('a_score==0').grapheme_root.value_counts().head(20)"
   ]
  },
  {
   "cell_type": "code",
   "execution_count": 47,
   "metadata": {},
   "outputs": [
    {
     "data": {
      "text/html": [
       "<div>\n",
       "<style scoped>\n",
       "    .dataframe tbody tr th:only-of-type {\n",
       "        vertical-align: middle;\n",
       "    }\n",
       "\n",
       "    .dataframe tbody tr th {\n",
       "        vertical-align: top;\n",
       "    }\n",
       "\n",
       "    .dataframe thead th {\n",
       "        text-align: right;\n",
       "    }\n",
       "</style>\n",
       "<table border=\"1\" class=\"dataframe\">\n",
       "  <thead>\n",
       "    <tr style=\"text-align: right;\">\n",
       "      <th></th>\n",
       "      <th>Unnamed: 0</th>\n",
       "      <th>original_index</th>\n",
       "      <th>image_id</th>\n",
       "      <th>grapheme_root</th>\n",
       "      <th>vowel_diacritic</th>\n",
       "      <th>consonant_diacritic</th>\n",
       "      <th>folds</th>\n",
       "      <th>combined</th>\n",
       "      <th>unique_label</th>\n",
       "      <th>g_pred</th>\n",
       "      <th>v_pred</th>\n",
       "      <th>c_pred</th>\n",
       "      <th>g_score</th>\n",
       "      <th>v_score</th>\n",
       "      <th>c_score</th>\n",
       "      <th>a_score</th>\n",
       "    </tr>\n",
       "  </thead>\n",
       "  <tbody>\n",
       "    <tr>\n",
       "      <th>7851</th>\n",
       "      <td>7851</td>\n",
       "      <td>7851</td>\n",
       "      <td>Train_7851</td>\n",
       "      <td>61</td>\n",
       "      <td>2</td>\n",
       "      <td>0</td>\n",
       "      <td>0.0</td>\n",
       "      <td>61_2_0</td>\n",
       "      <td>935</td>\n",
       "      <td>84</td>\n",
       "      <td>2</td>\n",
       "      <td>0</td>\n",
       "      <td>0</td>\n",
       "      <td>1</td>\n",
       "      <td>1</td>\n",
       "      <td>0</td>\n",
       "    </tr>\n",
       "    <tr>\n",
       "      <th>8213</th>\n",
       "      <td>8213</td>\n",
       "      <td>8213</td>\n",
       "      <td>Train_8213</td>\n",
       "      <td>61</td>\n",
       "      <td>2</td>\n",
       "      <td>0</td>\n",
       "      <td>0.0</td>\n",
       "      <td>61_2_0</td>\n",
       "      <td>935</td>\n",
       "      <td>84</td>\n",
       "      <td>2</td>\n",
       "      <td>0</td>\n",
       "      <td>0</td>\n",
       "      <td>1</td>\n",
       "      <td>1</td>\n",
       "      <td>0</td>\n",
       "    </tr>\n",
       "    <tr>\n",
       "      <th>16929</th>\n",
       "      <td>16929</td>\n",
       "      <td>16929</td>\n",
       "      <td>Train_16929</td>\n",
       "      <td>61</td>\n",
       "      <td>2</td>\n",
       "      <td>0</td>\n",
       "      <td>0.0</td>\n",
       "      <td>61_2_0</td>\n",
       "      <td>935</td>\n",
       "      <td>84</td>\n",
       "      <td>2</td>\n",
       "      <td>0</td>\n",
       "      <td>0</td>\n",
       "      <td>1</td>\n",
       "      <td>1</td>\n",
       "      <td>0</td>\n",
       "    </tr>\n",
       "    <tr>\n",
       "      <th>33939</th>\n",
       "      <td>33939</td>\n",
       "      <td>33939</td>\n",
       "      <td>Train_33939</td>\n",
       "      <td>61</td>\n",
       "      <td>2</td>\n",
       "      <td>0</td>\n",
       "      <td>0.0</td>\n",
       "      <td>61_2_0</td>\n",
       "      <td>935</td>\n",
       "      <td>59</td>\n",
       "      <td>2</td>\n",
       "      <td>0</td>\n",
       "      <td>0</td>\n",
       "      <td>1</td>\n",
       "      <td>1</td>\n",
       "      <td>0</td>\n",
       "    </tr>\n",
       "    <tr>\n",
       "      <th>37475</th>\n",
       "      <td>37475</td>\n",
       "      <td>37475</td>\n",
       "      <td>Train_37475</td>\n",
       "      <td>61</td>\n",
       "      <td>2</td>\n",
       "      <td>0</td>\n",
       "      <td>0.0</td>\n",
       "      <td>61_2_0</td>\n",
       "      <td>935</td>\n",
       "      <td>84</td>\n",
       "      <td>2</td>\n",
       "      <td>0</td>\n",
       "      <td>0</td>\n",
       "      <td>1</td>\n",
       "      <td>1</td>\n",
       "      <td>0</td>\n",
       "    </tr>\n",
       "    <tr>\n",
       "      <th>61581</th>\n",
       "      <td>61581</td>\n",
       "      <td>61581</td>\n",
       "      <td>Train_61581</td>\n",
       "      <td>61</td>\n",
       "      <td>2</td>\n",
       "      <td>0</td>\n",
       "      <td>0.0</td>\n",
       "      <td>61_2_0</td>\n",
       "      <td>935</td>\n",
       "      <td>84</td>\n",
       "      <td>2</td>\n",
       "      <td>0</td>\n",
       "      <td>0</td>\n",
       "      <td>1</td>\n",
       "      <td>1</td>\n",
       "      <td>0</td>\n",
       "    </tr>\n",
       "    <tr>\n",
       "      <th>65969</th>\n",
       "      <td>65969</td>\n",
       "      <td>65969</td>\n",
       "      <td>Train_65969</td>\n",
       "      <td>61</td>\n",
       "      <td>2</td>\n",
       "      <td>0</td>\n",
       "      <td>0.0</td>\n",
       "      <td>61_2_0</td>\n",
       "      <td>935</td>\n",
       "      <td>142</td>\n",
       "      <td>2</td>\n",
       "      <td>0</td>\n",
       "      <td>0</td>\n",
       "      <td>1</td>\n",
       "      <td>1</td>\n",
       "      <td>0</td>\n",
       "    </tr>\n",
       "    <tr>\n",
       "      <th>77144</th>\n",
       "      <td>77144</td>\n",
       "      <td>77144</td>\n",
       "      <td>Train_77144</td>\n",
       "      <td>61</td>\n",
       "      <td>2</td>\n",
       "      <td>0</td>\n",
       "      <td>0.0</td>\n",
       "      <td>61_2_0</td>\n",
       "      <td>935</td>\n",
       "      <td>84</td>\n",
       "      <td>2</td>\n",
       "      <td>0</td>\n",
       "      <td>0</td>\n",
       "      <td>1</td>\n",
       "      <td>1</td>\n",
       "      <td>0</td>\n",
       "    </tr>\n",
       "    <tr>\n",
       "      <th>88164</th>\n",
       "      <td>88164</td>\n",
       "      <td>88164</td>\n",
       "      <td>Train_88164</td>\n",
       "      <td>61</td>\n",
       "      <td>2</td>\n",
       "      <td>0</td>\n",
       "      <td>0.0</td>\n",
       "      <td>61_2_0</td>\n",
       "      <td>935</td>\n",
       "      <td>84</td>\n",
       "      <td>2</td>\n",
       "      <td>0</td>\n",
       "      <td>0</td>\n",
       "      <td>1</td>\n",
       "      <td>1</td>\n",
       "      <td>0</td>\n",
       "    </tr>\n",
       "    <tr>\n",
       "      <th>111364</th>\n",
       "      <td>111364</td>\n",
       "      <td>111364</td>\n",
       "      <td>Train_111364</td>\n",
       "      <td>61</td>\n",
       "      <td>2</td>\n",
       "      <td>0</td>\n",
       "      <td>0.0</td>\n",
       "      <td>61_2_0</td>\n",
       "      <td>935</td>\n",
       "      <td>84</td>\n",
       "      <td>2</td>\n",
       "      <td>0</td>\n",
       "      <td>0</td>\n",
       "      <td>1</td>\n",
       "      <td>1</td>\n",
       "      <td>0</td>\n",
       "    </tr>\n",
       "    <tr>\n",
       "      <th>119325</th>\n",
       "      <td>119325</td>\n",
       "      <td>119325</td>\n",
       "      <td>Train_119325</td>\n",
       "      <td>61</td>\n",
       "      <td>2</td>\n",
       "      <td>0</td>\n",
       "      <td>0.0</td>\n",
       "      <td>61_2_0</td>\n",
       "      <td>935</td>\n",
       "      <td>84</td>\n",
       "      <td>2</td>\n",
       "      <td>0</td>\n",
       "      <td>0</td>\n",
       "      <td>1</td>\n",
       "      <td>1</td>\n",
       "      <td>0</td>\n",
       "    </tr>\n",
       "    <tr>\n",
       "      <th>131548</th>\n",
       "      <td>131548</td>\n",
       "      <td>131548</td>\n",
       "      <td>Train_131548</td>\n",
       "      <td>61</td>\n",
       "      <td>2</td>\n",
       "      <td>0</td>\n",
       "      <td>0.0</td>\n",
       "      <td>61_2_0</td>\n",
       "      <td>935</td>\n",
       "      <td>84</td>\n",
       "      <td>2</td>\n",
       "      <td>0</td>\n",
       "      <td>0</td>\n",
       "      <td>1</td>\n",
       "      <td>1</td>\n",
       "      <td>0</td>\n",
       "    </tr>\n",
       "    <tr>\n",
       "      <th>141349</th>\n",
       "      <td>141349</td>\n",
       "      <td>141349</td>\n",
       "      <td>Train_141349</td>\n",
       "      <td>61</td>\n",
       "      <td>2</td>\n",
       "      <td>0</td>\n",
       "      <td>0.0</td>\n",
       "      <td>61_2_0</td>\n",
       "      <td>935</td>\n",
       "      <td>84</td>\n",
       "      <td>2</td>\n",
       "      <td>0</td>\n",
       "      <td>0</td>\n",
       "      <td>1</td>\n",
       "      <td>1</td>\n",
       "      <td>0</td>\n",
       "    </tr>\n",
       "    <tr>\n",
       "      <th>196378</th>\n",
       "      <td>196378</td>\n",
       "      <td>196378</td>\n",
       "      <td>Train_196378</td>\n",
       "      <td>61</td>\n",
       "      <td>2</td>\n",
       "      <td>0</td>\n",
       "      <td>0.0</td>\n",
       "      <td>61_2_0</td>\n",
       "      <td>935</td>\n",
       "      <td>84</td>\n",
       "      <td>2</td>\n",
       "      <td>0</td>\n",
       "      <td>0</td>\n",
       "      <td>1</td>\n",
       "      <td>1</td>\n",
       "      <td>0</td>\n",
       "    </tr>\n",
       "  </tbody>\n",
       "</table>\n",
       "</div>"
      ],
      "text/plain": [
       "        Unnamed: 0  original_index      image_id  grapheme_root  \\\n",
       "7851          7851            7851    Train_7851             61   \n",
       "8213          8213            8213    Train_8213             61   \n",
       "16929        16929           16929   Train_16929             61   \n",
       "33939        33939           33939   Train_33939             61   \n",
       "37475        37475           37475   Train_37475             61   \n",
       "61581        61581           61581   Train_61581             61   \n",
       "65969        65969           65969   Train_65969             61   \n",
       "77144        77144           77144   Train_77144             61   \n",
       "88164        88164           88164   Train_88164             61   \n",
       "111364      111364          111364  Train_111364             61   \n",
       "119325      119325          119325  Train_119325             61   \n",
       "131548      131548          131548  Train_131548             61   \n",
       "141349      141349          141349  Train_141349             61   \n",
       "196378      196378          196378  Train_196378             61   \n",
       "\n",
       "        vowel_diacritic  consonant_diacritic  folds combined  unique_label  \\\n",
       "7851                  2                    0    0.0   61_2_0           935   \n",
       "8213                  2                    0    0.0   61_2_0           935   \n",
       "16929                 2                    0    0.0   61_2_0           935   \n",
       "33939                 2                    0    0.0   61_2_0           935   \n",
       "37475                 2                    0    0.0   61_2_0           935   \n",
       "61581                 2                    0    0.0   61_2_0           935   \n",
       "65969                 2                    0    0.0   61_2_0           935   \n",
       "77144                 2                    0    0.0   61_2_0           935   \n",
       "88164                 2                    0    0.0   61_2_0           935   \n",
       "111364                2                    0    0.0   61_2_0           935   \n",
       "119325                2                    0    0.0   61_2_0           935   \n",
       "131548                2                    0    0.0   61_2_0           935   \n",
       "141349                2                    0    0.0   61_2_0           935   \n",
       "196378                2                    0    0.0   61_2_0           935   \n",
       "\n",
       "        g_pred  v_pred  c_pred  g_score  v_score  c_score  a_score  \n",
       "7851        84       2       0        0        1        1        0  \n",
       "8213        84       2       0        0        1        1        0  \n",
       "16929       84       2       0        0        1        1        0  \n",
       "33939       59       2       0        0        1        1        0  \n",
       "37475       84       2       0        0        1        1        0  \n",
       "61581       84       2       0        0        1        1        0  \n",
       "65969      142       2       0        0        1        1        0  \n",
       "77144       84       2       0        0        1        1        0  \n",
       "88164       84       2       0        0        1        1        0  \n",
       "111364      84       2       0        0        1        1        0  \n",
       "119325      84       2       0        0        1        1        0  \n",
       "131548      84       2       0        0        1        1        0  \n",
       "141349      84       2       0        0        1        1        0  \n",
       "196378      84       2       0        0        1        1        0  "
      ]
     },
     "execution_count": 47,
     "metadata": {},
     "output_type": "execute_result"
    }
   ],
   "source": [
    "val_df.query('combined==\"61_2_0\"&a_score==0')"
   ]
  },
  {
   "cell_type": "code",
   "execution_count": 42,
   "metadata": {},
   "outputs": [],
   "source": [
    "train_df = pd.read_csv('../input/bengaliai-cv19/train.csv')"
   ]
  },
  {
   "cell_type": "code",
   "execution_count": 44,
   "metadata": {},
   "outputs": [],
   "source": [
    "\n",
    "train_df['combined'] = train_df['grapheme_root'].astype(str) + '_' + train_df['vowel_diacritic'].astype(str) + '_' + train_df['consonant_diacritic'].astype(str)"
   ]
  },
  {
   "cell_type": "code",
   "execution_count": 59,
   "metadata": {},
   "outputs": [],
   "source": [
    "top = ['61_2_0', '60_4_0', '62_7_0', '64_4_5', '60_1_0', '61_0_0', '61_7_0',]\n",
    "#        '53_2_5', '83_1_0', '79_7_0', '162_1_0', '53_9_0', '60_0_0', '68_3_0',\n",
    "#        '120_0_0', '122_9_0', '85_7_0', '62_0_0', '30_7_0', '154_4_0']\n",
    "top_df = train_df[train_df.combined.map(lambda x: x in top)]"
   ]
  },
  {
   "cell_type": "code",
   "execution_count": 62,
   "metadata": {},
   "outputs": [
    {
     "data": {
      "text/html": [
       "<div>\n",
       "<style scoped>\n",
       "    .dataframe tbody tr th:only-of-type {\n",
       "        vertical-align: middle;\n",
       "    }\n",
       "\n",
       "    .dataframe tbody tr th {\n",
       "        vertical-align: top;\n",
       "    }\n",
       "\n",
       "    .dataframe thead th {\n",
       "        text-align: right;\n",
       "    }\n",
       "</style>\n",
       "<table border=\"1\" class=\"dataframe\">\n",
       "  <thead>\n",
       "    <tr style=\"text-align: right;\">\n",
       "      <th></th>\n",
       "      <th>grapheme</th>\n",
       "      <th>combined</th>\n",
       "    </tr>\n",
       "  </thead>\n",
       "  <tbody>\n",
       "    <tr>\n",
       "      <th>21</th>\n",
       "      <td>ণ্টু</td>\n",
       "      <td>60_4_0</td>\n",
       "    </tr>\n",
       "    <tr>\n",
       "      <th>202</th>\n",
       "      <td>ণ্ডে</td>\n",
       "      <td>62_7_0</td>\n",
       "    </tr>\n",
       "    <tr>\n",
       "      <th>730</th>\n",
       "      <td>ণ্ঠে</td>\n",
       "      <td>61_7_0</td>\n",
       "    </tr>\n",
       "    <tr>\n",
       "      <th>754</th>\n",
       "      <td>ত্রু</td>\n",
       "      <td>64_4_5</td>\n",
       "    </tr>\n",
       "    <tr>\n",
       "      <th>1784</th>\n",
       "      <td>ণ্ঠ</td>\n",
       "      <td>61_0_0</td>\n",
       "    </tr>\n",
       "    <tr>\n",
       "      <th>2996</th>\n",
       "      <td>ণ্টা</td>\n",
       "      <td>60_1_0</td>\n",
       "    </tr>\n",
       "    <tr>\n",
       "      <th>3032</th>\n",
       "      <td>ণ্ঠি</td>\n",
       "      <td>61_2_0</td>\n",
       "    </tr>\n",
       "  </tbody>\n",
       "</table>\n",
       "</div>"
      ],
      "text/plain": [
       "     grapheme combined\n",
       "21       ণ্টু   60_4_0\n",
       "202      ণ্ডে   62_7_0\n",
       "730      ণ্ঠে   61_7_0\n",
       "754      ত্রু   64_4_5\n",
       "1784      ণ্ঠ   61_0_0\n",
       "2996     ণ্টা   60_1_0\n",
       "3032     ণ্ঠি   61_2_0"
      ]
     },
     "execution_count": 62,
     "metadata": {},
     "output_type": "execute_result"
    }
   ],
   "source": [
    "top_df[['grapheme', 'combined']].drop_duplicates()"
   ]
  },
  {
   "cell_type": "code",
   "execution_count": 1,
   "metadata": {},
   "outputs": [],
   "source": [
    "from sklearn.metrics import f1_score"
   ]
  },
  {
   "cell_type": "code",
   "execution_count": 15,
   "metadata": {},
   "outputs": [
    {
     "data": {
      "text/plain": [
       "0.9584198523766987"
      ]
     },
     "execution_count": 15,
     "metadata": {},
     "output_type": "execute_result"
    }
   ],
   "source": [
    "f1_score(val_df.grapheme_root, val_df.g_pred, average='macro',)"
   ]
  },
  {
   "cell_type": "code",
   "execution_count": null,
   "metadata": {},
   "outputs": [],
   "source": []
  }
 ],
 "metadata": {
  "kernelspec": {
   "display_name": "Python 3",
   "language": "python",
   "name": "python3"
  },
  "language_info": {
   "codemirror_mode": {
    "name": "ipython",
    "version": 3
   },
   "file_extension": ".py",
   "mimetype": "text/x-python",
   "name": "python",
   "nbconvert_exporter": "python",
   "pygments_lexer": "ipython3",
   "version": "3.6.8"
  }
 },
 "nbformat": 4,
 "nbformat_minor": 2
}
