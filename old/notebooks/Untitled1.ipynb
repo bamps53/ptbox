{
 "cells": [
  {
   "cell_type": "code",
   "execution_count": 1,
   "metadata": {},
   "outputs": [],
   "source": [
    "import base64\n",
    "import gzip\n",
    "from pathlib import Path\n",
    "\n",
    "\n",
    "def encode_file(path: Path) -> str:\n",
    "    compressed = gzip.compress(path.read_bytes(), compresslevel=9)\n",
    "    return base64.b64encode(compressed).decode('utf-8')\n",
    "\n",
    "\n",
    "def build_script():\n",
    "    to_encode = list(Path('imet').glob('*.py')) + [Path('setup.py')]\n",
    "    file_data = {str(path): encode_file(path) for path in to_encode}\n",
    "    template = Path('script_template.py').read_text('utf8')\n",
    "    Path('.build/script.py').write_text(\n",
    "        template.replace('{file_data}', str(file_data)),\n",
    "        encoding='utf8')"
   ]
  },
  {
   "cell_type": "code",
   "execution_count": 10,
   "metadata": {
    "scrolled": true
   },
   "outputs": [
    {
     "data": {
      "text/plain": [
       "['EDA.ipynb',\n",
       " 'train.py',\n",
       " 'results',\n",
       " 'Untitled1.ipynb',\n",
       " 'optimizers',\n",
       " 'core',\n",
       " 'prediction.py',\n",
       " '.gitignore',\n",
       " 'schedulers',\n",
       " 'transforms',\n",
       " '.idea',\n",
       " 'datasets',\n",
       " 'config',\n",
       " 'losses',\n",
       " 'run.sh',\n",
       " 'split_folds.py',\n",
       " 'validation.py',\n",
       " 'utils',\n",
       " 'models',\n",
       " 'Untitled.ipynb',\n",
       " 'build.py',\n",
       " 'README.md',\n",
       " '.ipynb_checkpoints',\n",
       " '.git',\n",
       " 'data']"
      ]
     },
     "execution_count": 10,
     "metadata": {},
     "output_type": "execute_result"
    }
   ],
   "source": [
    "import os\n",
    "os.listdir('.')\n",
    "\n",
    "def\n",
    "os.path.isdir"
   ]
  },
  {
   "cell_type": "code",
   "execution_count": 14,
   "metadata": {},
   "outputs": [
    {
     "data": {
      "text/plain": [
       "[PosixPath('.'),\n",
       " PosixPath('results'),\n",
       " PosixPath('results/002_resnet18_mixup_fold1'),\n",
       " PosixPath('results/002_resnet18_mixup_fold1/checkpoints'),\n",
       " PosixPath('results/002_resnet18_mixup_fold1/train_log'),\n",
       " PosixPath('results/002_resnet18_mixup_fold1/code'),\n",
       " PosixPath('results/002_resnet18_mixup_fold1/valid_log'),\n",
       " PosixPath('results/001_resnet18_fold2'),\n",
       " PosixPath('results/003_resnet18_mixup_randomcrop_fold0'),\n",
       " PosixPath('results/003_resnet18_mixup_randomcrop_fold0/code-200124.155903'),\n",
       " PosixPath('results/003_resnet18_mixup_randomcrop_fold0/code-200124.155622'),\n",
       " PosixPath('results/003_resnet18_mixup_randomcrop_fold0/code-200124.155754'),\n",
       " PosixPath('results/003_resnet18_mixup_randomcrop_fold0/code-200124.155456'),\n",
       " PosixPath('results/003_resnet18_mixup_randomcrop_fold0/checkpoints'),\n",
       " PosixPath('results/003_resnet18_mixup_randomcrop_fold0/train_log'),\n",
       " PosixPath('results/003_resnet18_mixup_randomcrop_fold0/code'),\n",
       " PosixPath('results/003_resnet18_mixup_randomcrop_fold0/code-200124.000806'),\n",
       " PosixPath('results/003_resnet18_mixup_randomcrop_fold0/valid_log'),\n",
       " PosixPath('results/007_resnet18_all_aug_noise_off_fold1'),\n",
       " PosixPath('results/002_resnet18_mixup_fold0'),\n",
       " PosixPath('results/002_resnet18_mixup_fold0/checkpoints'),\n",
       " PosixPath('results/002_resnet18_mixup_fold0/train_log'),\n",
       " PosixPath('results/002_resnet18_mixup_fold0/code'),\n",
       " PosixPath('results/002_resnet18_mixup_fold0/valid_log'),\n",
       " PosixPath('results/004_resnet18_mixup_randomcrop_cosine_fold0'),\n",
       " PosixPath('results/004_resnet18_mixup_randomcrop_cosine_fold0/checkpoints'),\n",
       " PosixPath('results/004_resnet18_mixup_randomcrop_cosine_fold0/train_log'),\n",
       " PosixPath('results/004_resnet18_mixup_randomcrop_cosine_fold0/code'),\n",
       " PosixPath('results/004_resnet18_mixup_randomcrop_cosine_fold0/code-200124.000803'),\n",
       " PosixPath('results/004_resnet18_mixup_randomcrop_cosine_fold0/valid_log'),\n",
       " PosixPath('results/001_resnet18_fold0'),\n",
       " PosixPath('results/001_resnet18_fold0/checkpoints'),\n",
       " PosixPath('results/001_resnet18_fold0/train_log'),\n",
       " PosixPath('results/001_resnet18_fold0/code'),\n",
       " PosixPath('results/001_resnet18_fold0/valid_log'),\n",
       " PosixPath('results/008_resnet18_all_aug_randomcropscale_mixup_fold0'),\n",
       " PosixPath('results/008_resnet18_all_aug_randomcropscale_mixup_fold0/checkpoints'),\n",
       " PosixPath('results/008_resnet18_all_aug_randomcropscale_mixup_fold0/train_log'),\n",
       " PosixPath('results/008_resnet18_all_aug_randomcropscale_mixup_fold0/code'),\n",
       " PosixPath('results/008_resnet18_all_aug_randomcropscale_mixup_fold0/valid_log'),\n",
       " PosixPath('results/005_resnet18_all_fold0'),\n",
       " PosixPath('results/005_resnet18_all_fold0/checkpoints'),\n",
       " PosixPath('results/005_resnet18_all_fold0/train_log'),\n",
       " PosixPath('results/005_resnet18_all_fold0/code'),\n",
       " PosixPath('results/005_resnet18_all_fold0/valid_log'),\n",
       " PosixPath('results/006_resnet18_all_aug_fold0'),\n",
       " PosixPath('results/006_resnet18_all_aug_fold0/checkpoints'),\n",
       " PosixPath('results/006_resnet18_all_aug_fold0/train_log'),\n",
       " PosixPath('results/006_resnet18_all_aug_fold0/code'),\n",
       " PosixPath('results/006_resnet18_all_aug_fold0/valid_log'),\n",
       " PosixPath('results/.ipynb_checkpoints'),\n",
       " PosixPath('results/001_resnet18_fold1'),\n",
       " PosixPath('results/001_resnet18_fold1/checkpoints'),\n",
       " PosixPath('results/001_resnet18_fold1/train_log'),\n",
       " PosixPath('results/001_resnet18_fold1/code'),\n",
       " PosixPath('results/008_resnet18_all_aug_randomcropscale_mixup_fold1'),\n",
       " PosixPath('results/007_resnet18_all_aug_noise_off_fold0'),\n",
       " PosixPath('results/007_resnet18_all_aug_noise_off_fold0/checkpoints'),\n",
       " PosixPath('results/007_resnet18_all_aug_noise_off_fold0/train_log'),\n",
       " PosixPath('results/007_resnet18_all_aug_noise_off_fold0/code'),\n",
       " PosixPath('results/007_resnet18_all_aug_noise_off_fold0/valid_log'),\n",
       " PosixPath('optimizers'),\n",
       " PosixPath('optimizers/__pycache__'),\n",
       " PosixPath('schedulers'),\n",
       " PosixPath('schedulers/__pycache__'),\n",
       " PosixPath('transforms'),\n",
       " PosixPath('transforms/__pycache__'),\n",
       " PosixPath('.idea'),\n",
       " PosixPath('.idea/inspectionProfiles'),\n",
       " PosixPath('datasets'),\n",
       " PosixPath('datasets/__pycache__'),\n",
       " PosixPath('config'),\n",
       " PosixPath('config/obsolete'),\n",
       " PosixPath('config/__pycache__'),\n",
       " PosixPath('losses'),\n",
       " PosixPath('losses/__pycache__'),\n",
       " PosixPath('utils'),\n",
       " PosixPath('utils/__pycache__'),\n",
       " PosixPath('models'),\n",
       " PosixPath('models/__pycache__'),\n",
       " PosixPath('.ipynb_checkpoints'),\n",
       " PosixPath('.git'),\n",
       " PosixPath('.git/objects'),\n",
       " PosixPath('.git/objects/info'),\n",
       " PosixPath('.git/objects/pack'),\n",
       " PosixPath('.git/info'),\n",
       " PosixPath('.git/hooks'),\n",
       " PosixPath('.git/logs'),\n",
       " PosixPath('.git/logs/refs'),\n",
       " PosixPath('.git/logs/refs/heads'),\n",
       " PosixPath('.git/logs/refs/remotes'),\n",
       " PosixPath('.git/logs/refs/remotes/origin'),\n",
       " PosixPath('.git/refs'),\n",
       " PosixPath('.git/refs/heads'),\n",
       " PosixPath('.git/refs/remotes'),\n",
       " PosixPath('.git/refs/remotes/origin'),\n",
       " PosixPath('.git/refs/tags'),\n",
       " PosixPath('.git/branches'),\n",
       " PosixPath('data')]"
      ]
     },
     "execution_count": 14,
     "metadata": {},
     "output_type": "execute_result"
    }
   ],
   "source": [
    "list(Path('.').glob('**',))"
   ]
  },
  {
   "cell_type": "code",
   "execution_count": 11,
   "metadata": {},
   "outputs": [
    {
     "data": {
      "text/plain": [
       "[PosixPath('EDA.ipynb'),\n",
       " PosixPath('train.py'),\n",
       " PosixPath('results'),\n",
       " PosixPath('Untitled1.ipynb'),\n",
       " PosixPath('optimizers'),\n",
       " PosixPath('core'),\n",
       " PosixPath('prediction.py'),\n",
       " PosixPath('.gitignore'),\n",
       " PosixPath('schedulers'),\n",
       " PosixPath('transforms'),\n",
       " PosixPath('.idea'),\n",
       " PosixPath('datasets'),\n",
       " PosixPath('config'),\n",
       " PosixPath('losses'),\n",
       " PosixPath('run.sh'),\n",
       " PosixPath('split_folds.py'),\n",
       " PosixPath('validation.py'),\n",
       " PosixPath('utils'),\n",
       " PosixPath('models'),\n",
       " PosixPath('Untitled.ipynb'),\n",
       " PosixPath('build.py'),\n",
       " PosixPath('README.md'),\n",
       " PosixPath('.ipynb_checkpoints'),\n",
       " PosixPath('.git'),\n",
       " PosixPath('data')]"
      ]
     },
     "execution_count": 11,
     "metadata": {},
     "output_type": "execute_result"
    }
   ],
   "source": [
    "list(Path('.').iterdir())"
   ]
  },
  {
   "cell_type": "code",
   "execution_count": 5,
   "metadata": {},
   "outputs": [
    {
     "data": {
      "text/plain": [
       "<generator object Path.glob at 0x7efbf43915c8>"
      ]
     },
     "execution_count": 5,
     "metadata": {},
     "output_type": "execute_result"
    }
   ],
   "source": [
    "list(Path('.').glob('*.py')"
   ]
  },
  {
   "cell_type": "code",
   "execution_count": null,
   "metadata": {},
   "outputs": [],
   "source": []
  },
  {
   "cell_type": "code",
   "execution_count": null,
   "metadata": {},
   "outputs": [],
   "source": [
    "list(Path('imet').glob('*.py')) + [Path('setup.py')]"
   ]
  }
 ],
 "metadata": {
  "kernelspec": {
   "display_name": "Python 3",
   "language": "python",
   "name": "python3"
  },
  "language_info": {
   "codemirror_mode": {
    "name": "ipython",
    "version": 3
   },
   "file_extension": ".py",
   "mimetype": "text/x-python",
   "name": "python",
   "nbconvert_exporter": "python",
   "pygments_lexer": "ipython3",
   "version": "3.6.8"
  }
 },
 "nbformat": 4,
 "nbformat_minor": 2
}
